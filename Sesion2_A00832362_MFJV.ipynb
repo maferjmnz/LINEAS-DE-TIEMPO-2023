{
  "nbformat": 4,
  "nbformat_minor": 0,
  "metadata": {
    "colab": {
      "provenance": [],
      "include_colab_link": true
    },
    "kernelspec": {
      "name": "python3",
      "display_name": "Python 3"
    },
    "language_info": {
      "name": "python"
    }
  },
  "cells": [
    {
      "cell_type": "markdown",
      "metadata": {
        "id": "view-in-github",
        "colab_type": "text"
      },
      "source": [
        "<a href=\"https://colab.research.google.com/github/maferjmnz/LINEAS-DE-TIEMPO-2023/blob/main/Sesion2_A00832362_MFJV.ipynb\" target=\"_parent\"><img src=\"https://colab.research.google.com/assets/colab-badge.svg\" alt=\"Open In Colab\"/></a>"
      ]
    },
    {
      "cell_type": "markdown",
      "source": [
        "# Series de tiempo\n",
        "## Maria Fernanda Jimenez Vazquez A00832362\n",
        "### Sesión 2 - 15 feb 2023"
      ],
      "metadata": {
        "id": "KWomAaZgnVv3"
      }
    },
    {
      "cell_type": "markdown",
      "source": [
        "Crea una lista que contenga los integrantes de tu famila"
      ],
      "metadata": {
        "id": "p27nbQsznn3Z"
      }
    },
    {
      "cell_type": "code",
      "source": [
        "mifamilia= ['Azucena', 'Jorge', 'Glynnis', 'Azucenita', 'Maria Angel', 'Antonio']"
      ],
      "metadata": {
        "id": "Feb5z6UNn4aR"
      },
      "execution_count": 2,
      "outputs": []
    },
    {
      "cell_type": "markdown",
      "source": [
        "Vamos a elegir el integrante 1, *Nota: python comienza a contar desde cero*"
      ],
      "metadata": {
        "id": "YJAFBTuMtT01"
      }
    },
    {
      "cell_type": "code",
      "source": [
        "mifamilia[0]"
      ],
      "metadata": {
        "id": "Ixh0UsWxtS8K",
        "colab": {
          "base_uri": "https://localhost:8080/",
          "height": 35
        },
        "outputId": "1ea10b41-5da6-475d-e638-558d787ad214"
      },
      "execution_count": 3,
      "outputs": [
        {
          "output_type": "execute_result",
          "data": {
            "text/plain": [
              "'Azucena'"
            ],
            "application/vnd.google.colaboratory.intrinsic+json": {
              "type": "string"
            }
          },
          "metadata": {},
          "execution_count": 3
        }
      ]
    },
    {
      "cell_type": "markdown",
      "source": [
        "creamos una lista que contenga números"
      ],
      "metadata": {
        "id": "BhZd5FqbqR-w"
      }
    },
    {
      "cell_type": "code",
      "source": [
        "numeros =[6, 12, 9, 24, 1, 17]"
      ],
      "metadata": {
        "id": "FGC3sC38qWRl"
      },
      "execution_count": 4,
      "outputs": []
    },
    {
      "cell_type": "code",
      "source": [
        "type(numeros)"
      ],
      "metadata": {
        "id": "ReOE9fUkDyMC",
        "outputId": "3fa0df62-3843-49cb-9f6f-917179c37f4c",
        "colab": {
          "base_uri": "https://localhost:8080/"
        }
      },
      "execution_count": 5,
      "outputs": [
        {
          "output_type": "execute_result",
          "data": {
            "text/plain": [
              "list"
            ]
          },
          "metadata": {},
          "execution_count": 5
        }
      ]
    },
    {
      "cell_type": "markdown",
      "source": [
        "importamos un par de librerias/módulos. Que nos ayudaran a manejar números"
      ],
      "metadata": {
        "id": "garsXSaUrF2I"
      }
    },
    {
      "cell_type": "code",
      "source": [
        "import numpy as np\n",
        "import pandas as pd"
      ],
      "metadata": {
        "id": "bU_nvGiHqZwI"
      },
      "execution_count": 6,
      "outputs": []
    },
    {
      "cell_type": "markdown",
      "source": [
        "Calcularemos la media de estos números y los ordenaremos"
      ],
      "metadata": {
        "id": "AzI1hXZ-rPU7"
      }
    },
    {
      "cell_type": "code",
      "source": [
        "# primero convertimos estos numeros en arreglo\n"
      ],
      "metadata": {
        "id": "QOJzJK_4rXz5"
      },
      "execution_count": 7,
      "outputs": []
    },
    {
      "cell_type": "code",
      "source": [
        "numeros = np.array(numeros)"
      ],
      "metadata": {
        "id": "b4s8Plz0D8kU"
      },
      "execution_count": 8,
      "outputs": []
    },
    {
      "cell_type": "code",
      "source": [
        "type(numeros)"
      ],
      "metadata": {
        "id": "NknxHwQpEA1t",
        "outputId": "ff72f78e-5460-490c-e566-d402bcd64a91",
        "colab": {
          "base_uri": "https://localhost:8080/"
        }
      },
      "execution_count": 9,
      "outputs": [
        {
          "output_type": "execute_result",
          "data": {
            "text/plain": [
              "numpy.ndarray"
            ]
          },
          "metadata": {},
          "execution_count": 9
        }
      ]
    },
    {
      "cell_type": "code",
      "source": [
        "#calculamos la media y redondeamos a un decimal\n"
      ],
      "metadata": {
        "id": "xv8JeXHHrnW8"
      },
      "execution_count": 10,
      "outputs": []
    },
    {
      "cell_type": "code",
      "source": [
        "numeros.mean().round(1)"
      ],
      "metadata": {
        "id": "WaCHJvE3ECRF",
        "outputId": "68ce93a1-5c2d-4c08-e967-641c7af949f1",
        "colab": {
          "base_uri": "https://localhost:8080/"
        }
      },
      "execution_count": 11,
      "outputs": [
        {
          "output_type": "execute_result",
          "data": {
            "text/plain": [
              "11.5"
            ]
          },
          "metadata": {},
          "execution_count": 11
        }
      ]
    },
    {
      "cell_type": "code",
      "source": [
        "#ordenamos los números con .sort()\n"
      ],
      "metadata": {
        "id": "0QLhe5dwrx6o"
      },
      "execution_count": 12,
      "outputs": []
    },
    {
      "cell_type": "code",
      "source": [
        "numeros.sort()"
      ],
      "metadata": {
        "id": "3JNSfY6eEFka"
      },
      "execution_count": 13,
      "outputs": []
    },
    {
      "cell_type": "code",
      "source": [
        "#mostramos los números\n"
      ],
      "metadata": {
        "id": "QemwgdJCr7o2"
      },
      "execution_count": 14,
      "outputs": []
    },
    {
      "cell_type": "code",
      "source": [
        "numeros"
      ],
      "metadata": {
        "id": "tfRu4VQ5EJkV",
        "outputId": "10d01482-b854-4f89-c49d-85a71d94a8cf",
        "colab": {
          "base_uri": "https://localhost:8080/"
        }
      },
      "execution_count": 15,
      "outputs": [
        {
          "output_type": "execute_result",
          "data": {
            "text/plain": [
              "array([ 1,  6,  9, 12, 17, 24])"
            ]
          },
          "metadata": {},
          "execution_count": 15
        }
      ]
    },
    {
      "cell_type": "code",
      "source": [
        "numeros.var().round(2)"
      ],
      "metadata": {
        "id": "hm4WpHVvEOt0",
        "outputId": "fdf01924-dd4c-4764-d893-0d98592f7458",
        "colab": {
          "base_uri": "https://localhost:8080/"
        }
      },
      "execution_count": 17,
      "outputs": [
        {
          "output_type": "execute_result",
          "data": {
            "text/plain": [
              "55.58"
            ]
          },
          "metadata": {},
          "execution_count": 17
        }
      ]
    },
    {
      "cell_type": "code",
      "source": [
        "numeros"
      ],
      "metadata": {
        "id": "lIHZv1rnEPvA",
        "outputId": "7da8159d-578d-43e3-8cec-9f906c83da8c",
        "colab": {
          "base_uri": "https://localhost:8080/"
        }
      },
      "execution_count": 18,
      "outputs": [
        {
          "output_type": "execute_result",
          "data": {
            "text/plain": [
              "array([ 1,  6,  9, 12, 17, 24])"
            ]
          },
          "metadata": {},
          "execution_count": 18
        }
      ]
    },
    {
      "cell_type": "markdown",
      "source": [
        "Pandas utiliza una estructura de datos llamada **DataFrames**, que no son otra cosa que datos organizados en filas y columnas"
      ],
      "metadata": {
        "id": "oVt4bP0GtpMh"
      }
    },
    {
      "cell_type": "code",
      "source": [
        "##creamos un diccionario \n",
        "dic_grupo = {'nombre':['Juan','Ale', 'Jime', 'David'], \n",
        "             'Edad':[23,14,28,18],\n",
        "             'calificación':[90,70,45,85]}"
      ],
      "metadata": {
        "id": "K4gLhsaWuqiP"
      },
      "execution_count": 19,
      "outputs": []
    },
    {
      "cell_type": "code",
      "source": [
        "##vemos su contenido\n",
        "dic_grupo"
      ],
      "metadata": {
        "id": "Fjtzr2EkvqjO",
        "colab": {
          "base_uri": "https://localhost:8080/"
        },
        "outputId": "28af83e7-b3cc-4cbf-bedf-2def0db3b1a8"
      },
      "execution_count": 21,
      "outputs": [
        {
          "output_type": "execute_result",
          "data": {
            "text/plain": [
              "{'nombre': ['Juan', 'Ale', 'Jime', 'David'],\n",
              " 'Edad': [23, 14, 28, 18],\n",
              " 'calificación': [90, 70, 45, 85]}"
            ]
          },
          "metadata": {},
          "execution_count": 21
        }
      ]
    },
    {
      "cell_type": "code",
      "source": [
        "## ahora lo convertimos en DataFrame con pandas\n",
        "grupox = pd.DataFrame(dic_grupo)"
      ],
      "metadata": {
        "id": "OoviX2cUvuy6"
      },
      "execution_count": 22,
      "outputs": []
    },
    {
      "cell_type": "code",
      "source": [
        "# ahora vemos el dataframe\n",
        "grupox"
      ],
      "metadata": {
        "id": "ZDhZo2vzv6eN",
        "colab": {
          "base_uri": "https://localhost:8080/",
          "height": 175
        },
        "outputId": "3c684470-8b38-404d-b8c5-7df9f0291783"
      },
      "execution_count": 23,
      "outputs": [
        {
          "output_type": "execute_result",
          "data": {
            "text/plain": [
              "  nombre  Edad  calificación\n",
              "0   Juan    23            90\n",
              "1    Ale    14            70\n",
              "2   Jime    28            45\n",
              "3  David    18            85"
            ],
            "text/html": [
              "\n",
              "  <div id=\"df-0e538ee5-48dd-4462-a50f-a3e806e3a9b5\">\n",
              "    <div class=\"colab-df-container\">\n",
              "      <div>\n",
              "<style scoped>\n",
              "    .dataframe tbody tr th:only-of-type {\n",
              "        vertical-align: middle;\n",
              "    }\n",
              "\n",
              "    .dataframe tbody tr th {\n",
              "        vertical-align: top;\n",
              "    }\n",
              "\n",
              "    .dataframe thead th {\n",
              "        text-align: right;\n",
              "    }\n",
              "</style>\n",
              "<table border=\"1\" class=\"dataframe\">\n",
              "  <thead>\n",
              "    <tr style=\"text-align: right;\">\n",
              "      <th></th>\n",
              "      <th>nombre</th>\n",
              "      <th>Edad</th>\n",
              "      <th>calificación</th>\n",
              "    </tr>\n",
              "  </thead>\n",
              "  <tbody>\n",
              "    <tr>\n",
              "      <th>0</th>\n",
              "      <td>Juan</td>\n",
              "      <td>23</td>\n",
              "      <td>90</td>\n",
              "    </tr>\n",
              "    <tr>\n",
              "      <th>1</th>\n",
              "      <td>Ale</td>\n",
              "      <td>14</td>\n",
              "      <td>70</td>\n",
              "    </tr>\n",
              "    <tr>\n",
              "      <th>2</th>\n",
              "      <td>Jime</td>\n",
              "      <td>28</td>\n",
              "      <td>45</td>\n",
              "    </tr>\n",
              "    <tr>\n",
              "      <th>3</th>\n",
              "      <td>David</td>\n",
              "      <td>18</td>\n",
              "      <td>85</td>\n",
              "    </tr>\n",
              "  </tbody>\n",
              "</table>\n",
              "</div>\n",
              "      <button class=\"colab-df-convert\" onclick=\"convertToInteractive('df-0e538ee5-48dd-4462-a50f-a3e806e3a9b5')\"\n",
              "              title=\"Convert this dataframe to an interactive table.\"\n",
              "              style=\"display:none;\">\n",
              "        \n",
              "  <svg xmlns=\"http://www.w3.org/2000/svg\" height=\"24px\"viewBox=\"0 0 24 24\"\n",
              "       width=\"24px\">\n",
              "    <path d=\"M0 0h24v24H0V0z\" fill=\"none\"/>\n",
              "    <path d=\"M18.56 5.44l.94 2.06.94-2.06 2.06-.94-2.06-.94-.94-2.06-.94 2.06-2.06.94zm-11 1L8.5 8.5l.94-2.06 2.06-.94-2.06-.94L8.5 2.5l-.94 2.06-2.06.94zm10 10l.94 2.06.94-2.06 2.06-.94-2.06-.94-.94-2.06-.94 2.06-2.06.94z\"/><path d=\"M17.41 7.96l-1.37-1.37c-.4-.4-.92-.59-1.43-.59-.52 0-1.04.2-1.43.59L10.3 9.45l-7.72 7.72c-.78.78-.78 2.05 0 2.83L4 21.41c.39.39.9.59 1.41.59.51 0 1.02-.2 1.41-.59l7.78-7.78 2.81-2.81c.8-.78.8-2.07 0-2.86zM5.41 20L4 18.59l7.72-7.72 1.47 1.35L5.41 20z\"/>\n",
              "  </svg>\n",
              "      </button>\n",
              "      \n",
              "  <style>\n",
              "    .colab-df-container {\n",
              "      display:flex;\n",
              "      flex-wrap:wrap;\n",
              "      gap: 12px;\n",
              "    }\n",
              "\n",
              "    .colab-df-convert {\n",
              "      background-color: #E8F0FE;\n",
              "      border: none;\n",
              "      border-radius: 50%;\n",
              "      cursor: pointer;\n",
              "      display: none;\n",
              "      fill: #1967D2;\n",
              "      height: 32px;\n",
              "      padding: 0 0 0 0;\n",
              "      width: 32px;\n",
              "    }\n",
              "\n",
              "    .colab-df-convert:hover {\n",
              "      background-color: #E2EBFA;\n",
              "      box-shadow: 0px 1px 2px rgba(60, 64, 67, 0.3), 0px 1px 3px 1px rgba(60, 64, 67, 0.15);\n",
              "      fill: #174EA6;\n",
              "    }\n",
              "\n",
              "    [theme=dark] .colab-df-convert {\n",
              "      background-color: #3B4455;\n",
              "      fill: #D2E3FC;\n",
              "    }\n",
              "\n",
              "    [theme=dark] .colab-df-convert:hover {\n",
              "      background-color: #434B5C;\n",
              "      box-shadow: 0px 1px 3px 1px rgba(0, 0, 0, 0.15);\n",
              "      filter: drop-shadow(0px 1px 2px rgba(0, 0, 0, 0.3));\n",
              "      fill: #FFFFFF;\n",
              "    }\n",
              "  </style>\n",
              "\n",
              "      <script>\n",
              "        const buttonEl =\n",
              "          document.querySelector('#df-0e538ee5-48dd-4462-a50f-a3e806e3a9b5 button.colab-df-convert');\n",
              "        buttonEl.style.display =\n",
              "          google.colab.kernel.accessAllowed ? 'block' : 'none';\n",
              "\n",
              "        async function convertToInteractive(key) {\n",
              "          const element = document.querySelector('#df-0e538ee5-48dd-4462-a50f-a3e806e3a9b5');\n",
              "          const dataTable =\n",
              "            await google.colab.kernel.invokeFunction('convertToInteractive',\n",
              "                                                     [key], {});\n",
              "          if (!dataTable) return;\n",
              "\n",
              "          const docLinkHtml = 'Like what you see? Visit the ' +\n",
              "            '<a target=\"_blank\" href=https://colab.research.google.com/notebooks/data_table.ipynb>data table notebook</a>'\n",
              "            + ' to learn more about interactive tables.';\n",
              "          element.innerHTML = '';\n",
              "          dataTable['output_type'] = 'display_data';\n",
              "          await google.colab.output.renderOutput(dataTable, element);\n",
              "          const docLink = document.createElement('div');\n",
              "          docLink.innerHTML = docLinkHtml;\n",
              "          element.appendChild(docLink);\n",
              "        }\n",
              "      </script>\n",
              "    </div>\n",
              "  </div>\n",
              "  "
            ]
          },
          "metadata": {},
          "execution_count": 23
        }
      ]
    },
    {
      "cell_type": "code",
      "source": [
        "# El nombre de las columnas se llama columns\n",
        "grupox.columns"
      ],
      "metadata": {
        "id": "lF5lYUx8wA2G",
        "colab": {
          "base_uri": "https://localhost:8080/"
        },
        "outputId": "9cdc804e-f68c-40f2-acd5-05eba4d16e81"
      },
      "execution_count": 24,
      "outputs": [
        {
          "output_type": "execute_result",
          "data": {
            "text/plain": [
              "Index(['nombre', 'Edad', 'calificación'], dtype='object')"
            ]
          },
          "metadata": {},
          "execution_count": 24
        }
      ]
    },
    {
      "cell_type": "code",
      "source": [
        "# el nombre de las filas se llama Index\n",
        "grupox.index"
      ],
      "metadata": {
        "id": "0JYl8Ah_wKJb",
        "colab": {
          "base_uri": "https://localhost:8080/"
        },
        "outputId": "17dfe7bf-2c45-42ab-e5d7-e27a6b080324"
      },
      "execution_count": 25,
      "outputs": [
        {
          "output_type": "execute_result",
          "data": {
            "text/plain": [
              "RangeIndex(start=0, stop=4, step=1)"
            ]
          },
          "metadata": {},
          "execution_count": 25
        }
      ]
    },
    {
      "cell_type": "code",
      "source": [
        "# vemos su estructura con shape\n",
        "grupox.shape"
      ],
      "metadata": {
        "id": "weV0n0gBwS6a",
        "colab": {
          "base_uri": "https://localhost:8080/"
        },
        "outputId": "d3c88aee-2ab2-4094-ece7-3e2457ba6c87"
      },
      "execution_count": 26,
      "outputs": [
        {
          "output_type": "execute_result",
          "data": {
            "text/plain": [
              "(4, 3)"
            ]
          },
          "metadata": {},
          "execution_count": 26
        }
      ]
    },
    {
      "cell_type": "code",
      "source": [
        "# seleccionamos la columna nombre\n",
        "grupox['nombre']"
      ],
      "metadata": {
        "id": "QQYW2JuCxpSh",
        "colab": {
          "base_uri": "https://localhost:8080/"
        },
        "outputId": "25de8129-91aa-450e-8679-1b7e32e7f1fa"
      },
      "execution_count": 27,
      "outputs": [
        {
          "output_type": "execute_result",
          "data": {
            "text/plain": [
              "0     Juan\n",
              "1      Ale\n",
              "2     Jime\n",
              "3    David\n",
              "Name: nombre, dtype: object"
            ]
          },
          "metadata": {},
          "execution_count": 27
        }
      ]
    },
    {
      "cell_type": "code",
      "source": [
        "# seleccionamos la columna Edad\n",
        "grupox['Edad']"
      ],
      "metadata": {
        "id": "PbseyozDxpdP",
        "colab": {
          "base_uri": "https://localhost:8080/"
        },
        "outputId": "3eed7c81-aff7-49f3-a203-41d9c7afe68c"
      },
      "execution_count": 29,
      "outputs": [
        {
          "output_type": "execute_result",
          "data": {
            "text/plain": [
              "0    23\n",
              "1    14\n",
              "2    28\n",
              "3    18\n",
              "Name: Edad, dtype: int64"
            ]
          },
          "metadata": {},
          "execution_count": 29
        }
      ]
    },
    {
      "cell_type": "code",
      "source": [
        "# seleccionamos la columna edad y la columna nombre\n",
        "grupox[['nombre', 'Edad']]"
      ],
      "metadata": {
        "id": "_KsenuyrxzUZ",
        "colab": {
          "base_uri": "https://localhost:8080/",
          "height": 175
        },
        "outputId": "20cfba2f-3639-420d-d6e8-978f0de2dbc6"
      },
      "execution_count": 31,
      "outputs": [
        {
          "output_type": "execute_result",
          "data": {
            "text/plain": [
              "  nombre  Edad\n",
              "0   Juan    23\n",
              "1    Ale    14\n",
              "2   Jime    28\n",
              "3  David    18"
            ],
            "text/html": [
              "\n",
              "  <div id=\"df-43495dec-a437-40a3-8c6b-e960a1730f13\">\n",
              "    <div class=\"colab-df-container\">\n",
              "      <div>\n",
              "<style scoped>\n",
              "    .dataframe tbody tr th:only-of-type {\n",
              "        vertical-align: middle;\n",
              "    }\n",
              "\n",
              "    .dataframe tbody tr th {\n",
              "        vertical-align: top;\n",
              "    }\n",
              "\n",
              "    .dataframe thead th {\n",
              "        text-align: right;\n",
              "    }\n",
              "</style>\n",
              "<table border=\"1\" class=\"dataframe\">\n",
              "  <thead>\n",
              "    <tr style=\"text-align: right;\">\n",
              "      <th></th>\n",
              "      <th>nombre</th>\n",
              "      <th>Edad</th>\n",
              "    </tr>\n",
              "  </thead>\n",
              "  <tbody>\n",
              "    <tr>\n",
              "      <th>0</th>\n",
              "      <td>Juan</td>\n",
              "      <td>23</td>\n",
              "    </tr>\n",
              "    <tr>\n",
              "      <th>1</th>\n",
              "      <td>Ale</td>\n",
              "      <td>14</td>\n",
              "    </tr>\n",
              "    <tr>\n",
              "      <th>2</th>\n",
              "      <td>Jime</td>\n",
              "      <td>28</td>\n",
              "    </tr>\n",
              "    <tr>\n",
              "      <th>3</th>\n",
              "      <td>David</td>\n",
              "      <td>18</td>\n",
              "    </tr>\n",
              "  </tbody>\n",
              "</table>\n",
              "</div>\n",
              "      <button class=\"colab-df-convert\" onclick=\"convertToInteractive('df-43495dec-a437-40a3-8c6b-e960a1730f13')\"\n",
              "              title=\"Convert this dataframe to an interactive table.\"\n",
              "              style=\"display:none;\">\n",
              "        \n",
              "  <svg xmlns=\"http://www.w3.org/2000/svg\" height=\"24px\"viewBox=\"0 0 24 24\"\n",
              "       width=\"24px\">\n",
              "    <path d=\"M0 0h24v24H0V0z\" fill=\"none\"/>\n",
              "    <path d=\"M18.56 5.44l.94 2.06.94-2.06 2.06-.94-2.06-.94-.94-2.06-.94 2.06-2.06.94zm-11 1L8.5 8.5l.94-2.06 2.06-.94-2.06-.94L8.5 2.5l-.94 2.06-2.06.94zm10 10l.94 2.06.94-2.06 2.06-.94-2.06-.94-.94-2.06-.94 2.06-2.06.94z\"/><path d=\"M17.41 7.96l-1.37-1.37c-.4-.4-.92-.59-1.43-.59-.52 0-1.04.2-1.43.59L10.3 9.45l-7.72 7.72c-.78.78-.78 2.05 0 2.83L4 21.41c.39.39.9.59 1.41.59.51 0 1.02-.2 1.41-.59l7.78-7.78 2.81-2.81c.8-.78.8-2.07 0-2.86zM5.41 20L4 18.59l7.72-7.72 1.47 1.35L5.41 20z\"/>\n",
              "  </svg>\n",
              "      </button>\n",
              "      \n",
              "  <style>\n",
              "    .colab-df-container {\n",
              "      display:flex;\n",
              "      flex-wrap:wrap;\n",
              "      gap: 12px;\n",
              "    }\n",
              "\n",
              "    .colab-df-convert {\n",
              "      background-color: #E8F0FE;\n",
              "      border: none;\n",
              "      border-radius: 50%;\n",
              "      cursor: pointer;\n",
              "      display: none;\n",
              "      fill: #1967D2;\n",
              "      height: 32px;\n",
              "      padding: 0 0 0 0;\n",
              "      width: 32px;\n",
              "    }\n",
              "\n",
              "    .colab-df-convert:hover {\n",
              "      background-color: #E2EBFA;\n",
              "      box-shadow: 0px 1px 2px rgba(60, 64, 67, 0.3), 0px 1px 3px 1px rgba(60, 64, 67, 0.15);\n",
              "      fill: #174EA6;\n",
              "    }\n",
              "\n",
              "    [theme=dark] .colab-df-convert {\n",
              "      background-color: #3B4455;\n",
              "      fill: #D2E3FC;\n",
              "    }\n",
              "\n",
              "    [theme=dark] .colab-df-convert:hover {\n",
              "      background-color: #434B5C;\n",
              "      box-shadow: 0px 1px 3px 1px rgba(0, 0, 0, 0.15);\n",
              "      filter: drop-shadow(0px 1px 2px rgba(0, 0, 0, 0.3));\n",
              "      fill: #FFFFFF;\n",
              "    }\n",
              "  </style>\n",
              "\n",
              "      <script>\n",
              "        const buttonEl =\n",
              "          document.querySelector('#df-43495dec-a437-40a3-8c6b-e960a1730f13 button.colab-df-convert');\n",
              "        buttonEl.style.display =\n",
              "          google.colab.kernel.accessAllowed ? 'block' : 'none';\n",
              "\n",
              "        async function convertToInteractive(key) {\n",
              "          const element = document.querySelector('#df-43495dec-a437-40a3-8c6b-e960a1730f13');\n",
              "          const dataTable =\n",
              "            await google.colab.kernel.invokeFunction('convertToInteractive',\n",
              "                                                     [key], {});\n",
              "          if (!dataTable) return;\n",
              "\n",
              "          const docLinkHtml = 'Like what you see? Visit the ' +\n",
              "            '<a target=\"_blank\" href=https://colab.research.google.com/notebooks/data_table.ipynb>data table notebook</a>'\n",
              "            + ' to learn more about interactive tables.';\n",
              "          element.innerHTML = '';\n",
              "          dataTable['output_type'] = 'display_data';\n",
              "          await google.colab.output.renderOutput(dataTable, element);\n",
              "          const docLink = document.createElement('div');\n",
              "          docLink.innerHTML = docLinkHtml;\n",
              "          element.appendChild(docLink);\n",
              "        }\n",
              "      </script>\n",
              "    </div>\n",
              "  </div>\n",
              "  "
            ]
          },
          "metadata": {},
          "execution_count": 31
        }
      ]
    },
    {
      "cell_type": "markdown",
      "source": [
        "## Repaso de inferencia"
      ],
      "metadata": {
        "id": "aODKCnGcxiSE"
      }
    },
    {
      "cell_type": "markdown",
      "source": [
        "Vamos a instalar yahoo finance para descargar precio de las acciones  "
      ],
      "metadata": {
        "id": "ydsw2gko0GJm"
      }
    },
    {
      "cell_type": "code",
      "source": [
        "pip install yfinance"
      ],
      "metadata": {
        "id": "T1fNPyUMwjNn"
      },
      "execution_count": null,
      "outputs": []
    },
    {
      "cell_type": "markdown",
      "source": [
        "ya instalada la libreria, podemos decirle a python que la use"
      ],
      "metadata": {
        "id": "Ien_OfXj0Xhb"
      }
    },
    {
      "cell_type": "code",
      "source": [
        "import yfinance as yf\n",
        "import matplotlib.pyplot as plt\n",
        "%matplotlib inline"
      ],
      "metadata": {
        "id": "e-Cs5_Hz0WJ1"
      },
      "execution_count": 33,
      "outputs": []
    },
    {
      "cell_type": "markdown",
      "source": [
        "ahora importamos los datos de las acciones de walmart de México"
      ],
      "metadata": {
        "id": "oXd7yxlr0fxw"
      }
    },
    {
      "cell_type": "code",
      "source": [
        "walmex = yf.download('WALMEX.MX', \n",
        "                       start='2018-01-01', \n",
        "                       end='2022-12-31',\n",
        "                       progress=False)"
      ],
      "metadata": {
        "id": "gqVNRk4s0k32"
      },
      "execution_count": 34,
      "outputs": []
    },
    {
      "cell_type": "markdown",
      "source": [
        "damos una mirada rápida a lo que contiene este dataframe con .head()"
      ],
      "metadata": {
        "id": "zHmlV-pl01VB"
      }
    },
    {
      "cell_type": "code",
      "source": [
        "walmex.head()"
      ],
      "metadata": {
        "id": "vPicuUek0yf0",
        "colab": {
          "base_uri": "https://localhost:8080/",
          "height": 238
        },
        "outputId": "4c4a921d-e27c-479f-a32e-69ec5ff6dc27"
      },
      "execution_count": 35,
      "outputs": [
        {
          "output_type": "execute_result",
          "data": {
            "text/plain": [
              "                 Open       High        Low      Close  Adj Close    Volume\n",
              "Date                                                                       \n",
              "2018-01-02  48.150002  48.590000  47.700001  48.029999  44.102348   8781274\n",
              "2018-01-03  47.910000  48.000000  47.380001  47.590000  43.698345  12656360\n",
              "2018-01-04  47.599998  48.209999  47.490002  47.610001  43.716702  16650871\n",
              "2018-01-05  47.700001  48.169998  47.549999  48.090000  44.157448   9575059\n",
              "2018-01-08  48.099998  48.500000  47.980000  48.320000  44.368645  13856218"
            ],
            "text/html": [
              "\n",
              "  <div id=\"df-78895200-e950-4011-b5d2-ed3b59417a6f\">\n",
              "    <div class=\"colab-df-container\">\n",
              "      <div>\n",
              "<style scoped>\n",
              "    .dataframe tbody tr th:only-of-type {\n",
              "        vertical-align: middle;\n",
              "    }\n",
              "\n",
              "    .dataframe tbody tr th {\n",
              "        vertical-align: top;\n",
              "    }\n",
              "\n",
              "    .dataframe thead th {\n",
              "        text-align: right;\n",
              "    }\n",
              "</style>\n",
              "<table border=\"1\" class=\"dataframe\">\n",
              "  <thead>\n",
              "    <tr style=\"text-align: right;\">\n",
              "      <th></th>\n",
              "      <th>Open</th>\n",
              "      <th>High</th>\n",
              "      <th>Low</th>\n",
              "      <th>Close</th>\n",
              "      <th>Adj Close</th>\n",
              "      <th>Volume</th>\n",
              "    </tr>\n",
              "    <tr>\n",
              "      <th>Date</th>\n",
              "      <th></th>\n",
              "      <th></th>\n",
              "      <th></th>\n",
              "      <th></th>\n",
              "      <th></th>\n",
              "      <th></th>\n",
              "    </tr>\n",
              "  </thead>\n",
              "  <tbody>\n",
              "    <tr>\n",
              "      <th>2018-01-02</th>\n",
              "      <td>48.150002</td>\n",
              "      <td>48.590000</td>\n",
              "      <td>47.700001</td>\n",
              "      <td>48.029999</td>\n",
              "      <td>44.102348</td>\n",
              "      <td>8781274</td>\n",
              "    </tr>\n",
              "    <tr>\n",
              "      <th>2018-01-03</th>\n",
              "      <td>47.910000</td>\n",
              "      <td>48.000000</td>\n",
              "      <td>47.380001</td>\n",
              "      <td>47.590000</td>\n",
              "      <td>43.698345</td>\n",
              "      <td>12656360</td>\n",
              "    </tr>\n",
              "    <tr>\n",
              "      <th>2018-01-04</th>\n",
              "      <td>47.599998</td>\n",
              "      <td>48.209999</td>\n",
              "      <td>47.490002</td>\n",
              "      <td>47.610001</td>\n",
              "      <td>43.716702</td>\n",
              "      <td>16650871</td>\n",
              "    </tr>\n",
              "    <tr>\n",
              "      <th>2018-01-05</th>\n",
              "      <td>47.700001</td>\n",
              "      <td>48.169998</td>\n",
              "      <td>47.549999</td>\n",
              "      <td>48.090000</td>\n",
              "      <td>44.157448</td>\n",
              "      <td>9575059</td>\n",
              "    </tr>\n",
              "    <tr>\n",
              "      <th>2018-01-08</th>\n",
              "      <td>48.099998</td>\n",
              "      <td>48.500000</td>\n",
              "      <td>47.980000</td>\n",
              "      <td>48.320000</td>\n",
              "      <td>44.368645</td>\n",
              "      <td>13856218</td>\n",
              "    </tr>\n",
              "  </tbody>\n",
              "</table>\n",
              "</div>\n",
              "      <button class=\"colab-df-convert\" onclick=\"convertToInteractive('df-78895200-e950-4011-b5d2-ed3b59417a6f')\"\n",
              "              title=\"Convert this dataframe to an interactive table.\"\n",
              "              style=\"display:none;\">\n",
              "        \n",
              "  <svg xmlns=\"http://www.w3.org/2000/svg\" height=\"24px\"viewBox=\"0 0 24 24\"\n",
              "       width=\"24px\">\n",
              "    <path d=\"M0 0h24v24H0V0z\" fill=\"none\"/>\n",
              "    <path d=\"M18.56 5.44l.94 2.06.94-2.06 2.06-.94-2.06-.94-.94-2.06-.94 2.06-2.06.94zm-11 1L8.5 8.5l.94-2.06 2.06-.94-2.06-.94L8.5 2.5l-.94 2.06-2.06.94zm10 10l.94 2.06.94-2.06 2.06-.94-2.06-.94-.94-2.06-.94 2.06-2.06.94z\"/><path d=\"M17.41 7.96l-1.37-1.37c-.4-.4-.92-.59-1.43-.59-.52 0-1.04.2-1.43.59L10.3 9.45l-7.72 7.72c-.78.78-.78 2.05 0 2.83L4 21.41c.39.39.9.59 1.41.59.51 0 1.02-.2 1.41-.59l7.78-7.78 2.81-2.81c.8-.78.8-2.07 0-2.86zM5.41 20L4 18.59l7.72-7.72 1.47 1.35L5.41 20z\"/>\n",
              "  </svg>\n",
              "      </button>\n",
              "      \n",
              "  <style>\n",
              "    .colab-df-container {\n",
              "      display:flex;\n",
              "      flex-wrap:wrap;\n",
              "      gap: 12px;\n",
              "    }\n",
              "\n",
              "    .colab-df-convert {\n",
              "      background-color: #E8F0FE;\n",
              "      border: none;\n",
              "      border-radius: 50%;\n",
              "      cursor: pointer;\n",
              "      display: none;\n",
              "      fill: #1967D2;\n",
              "      height: 32px;\n",
              "      padding: 0 0 0 0;\n",
              "      width: 32px;\n",
              "    }\n",
              "\n",
              "    .colab-df-convert:hover {\n",
              "      background-color: #E2EBFA;\n",
              "      box-shadow: 0px 1px 2px rgba(60, 64, 67, 0.3), 0px 1px 3px 1px rgba(60, 64, 67, 0.15);\n",
              "      fill: #174EA6;\n",
              "    }\n",
              "\n",
              "    [theme=dark] .colab-df-convert {\n",
              "      background-color: #3B4455;\n",
              "      fill: #D2E3FC;\n",
              "    }\n",
              "\n",
              "    [theme=dark] .colab-df-convert:hover {\n",
              "      background-color: #434B5C;\n",
              "      box-shadow: 0px 1px 3px 1px rgba(0, 0, 0, 0.15);\n",
              "      filter: drop-shadow(0px 1px 2px rgba(0, 0, 0, 0.3));\n",
              "      fill: #FFFFFF;\n",
              "    }\n",
              "  </style>\n",
              "\n",
              "      <script>\n",
              "        const buttonEl =\n",
              "          document.querySelector('#df-78895200-e950-4011-b5d2-ed3b59417a6f button.colab-df-convert');\n",
              "        buttonEl.style.display =\n",
              "          google.colab.kernel.accessAllowed ? 'block' : 'none';\n",
              "\n",
              "        async function convertToInteractive(key) {\n",
              "          const element = document.querySelector('#df-78895200-e950-4011-b5d2-ed3b59417a6f');\n",
              "          const dataTable =\n",
              "            await google.colab.kernel.invokeFunction('convertToInteractive',\n",
              "                                                     [key], {});\n",
              "          if (!dataTable) return;\n",
              "\n",
              "          const docLinkHtml = 'Like what you see? Visit the ' +\n",
              "            '<a target=\"_blank\" href=https://colab.research.google.com/notebooks/data_table.ipynb>data table notebook</a>'\n",
              "            + ' to learn more about interactive tables.';\n",
              "          element.innerHTML = '';\n",
              "          dataTable['output_type'] = 'display_data';\n",
              "          await google.colab.output.renderOutput(dataTable, element);\n",
              "          const docLink = document.createElement('div');\n",
              "          docLink.innerHTML = docLinkHtml;\n",
              "          element.appendChild(docLink);\n",
              "        }\n",
              "      </script>\n",
              "    </div>\n",
              "  </div>\n",
              "  "
            ]
          },
          "metadata": {},
          "execution_count": 35
        }
      ]
    },
    {
      "cell_type": "markdown",
      "source": [
        "Grafiquemos el precio de las acciones de walmex"
      ],
      "metadata": {
        "id": "UdJi4d792zcq"
      }
    },
    {
      "cell_type": "code",
      "source": [
        "walmex['Adj Close'].plot()\n",
        "plt.title('Precio de la Acción de Walmart Mexico de 1018-2022')\n",
        "plt.ylabel('pesos MXN')\n",
        "plt.xlabel('dia')\n",
        "plt.xlim('2018-01-01', '2022-12-31')\n",
        "plt.show()"
      ],
      "metadata": {
        "id": "oF25rHox23NW",
        "colab": {
          "base_uri": "https://localhost:8080/",
          "height": 293
        },
        "outputId": "002c7274-d41d-468b-a5f9-cc0649ef8234"
      },
      "execution_count": 36,
      "outputs": [
        {
          "output_type": "display_data",
          "data": {
            "text/plain": [
              "<Figure size 432x288 with 1 Axes>"
            ],
            "image/png": "[encoded data removed]"
          },
          "metadata": {
            "needs_background": "light"
          }
        }
      ]
    },
    {
      "cell_type": "markdown",
      "source": [
        "Vamos a renombrar Adj Close"
      ],
      "metadata": {
        "id": "wzmEdfhn09ia"
      }
    },
    {
      "cell_type": "code",
      "source": [
        "walmex = walmex.rename(columns={'Adj Close': 'adj_close'})"
      ],
      "metadata": {
        "id": "4RLFD_VX1JSE"
      },
      "execution_count": 37,
      "outputs": []
    },
    {
      "cell_type": "code",
      "source": [
        "walmex"
      ],
      "metadata": {
        "id": "yX5Rw8mnFnx1",
        "outputId": "6e157e97-0ee0-49cf-f92a-325262bc7f26",
        "colab": {
          "base_uri": "https://localhost:8080/",
          "height": 455
        }
      },
      "execution_count": 38,
      "outputs": [
        {
          "output_type": "execute_result",
          "data": {
            "text/plain": [
              "                 Open       High        Low      Close  adj_close    Volume\n",
              "Date                                                                       \n",
              "2018-01-02  48.150002  48.590000  47.700001  48.029999  44.102348   8781274\n",
              "2018-01-03  47.910000  48.000000  47.380001  47.590000  43.698345  12656360\n",
              "2018-01-04  47.599998  48.209999  47.490002  47.610001  43.716702  16650871\n",
              "2018-01-05  47.700001  48.169998  47.549999  48.090000  44.157448   9575059\n",
              "2018-01-08  48.099998  48.500000  47.980000  48.320000  44.368645  13856218\n",
              "...               ...        ...        ...        ...        ...       ...\n",
              "2022-12-26  71.449997  71.529999  71.000000  71.099998  71.099998    444593\n",
              "2022-12-27  71.370003  71.820000  70.910004  71.029999  71.029999   3352276\n",
              "2022-12-28  70.910004  71.540001  69.919998  70.000000  70.000000   4871798\n",
              "2022-12-29  70.839996  70.839996  69.120003  69.870003  69.870003   5026928\n",
              "2022-12-30  69.699997  70.190002  68.220001  68.879997  68.879997   7114822\n",
              "\n",
              "[1259 rows x 6 columns]"
            ],
            "text/html": [
              "\n",
              "  <div id=\"df-ae3150d0-fe5f-4e51-8d58-7c0abb254bc0\">\n",
              "    <div class=\"colab-df-container\">\n",
              "      <div>\n",
              "<style scoped>\n",
              "    .dataframe tbody tr th:only-of-type {\n",
              "        vertical-align: middle;\n",
              "    }\n",
              "\n",
              "    .dataframe tbody tr th {\n",
              "        vertical-align: top;\n",
              "    }\n",
              "\n",
              "    .dataframe thead th {\n",
              "        text-align: right;\n",
              "    }\n",
              "</style>\n",
              "<table border=\"1\" class=\"dataframe\">\n",
              "  <thead>\n",
              "    <tr style=\"text-align: right;\">\n",
              "      <th></th>\n",
              "      <th>Open</th>\n",
              "      <th>High</th>\n",
              "      <th>Low</th>\n",
              "      <th>Close</th>\n",
              "      <th>adj_close</th>\n",
              "      <th>Volume</th>\n",
              "    </tr>\n",
              "    <tr>\n",
              "      <th>Date</th>\n",
              "      <th></th>\n",
              "      <th></th>\n",
              "      <th></th>\n",
              "      <th></th>\n",
              "      <th></th>\n",
              "      <th></th>\n",
              "    </tr>\n",
              "  </thead>\n",
              "  <tbody>\n",
              "    <tr>\n",
              "      <th>2018-01-02</th>\n",
              "      <td>48.150002</td>\n",
              "      <td>48.590000</td>\n",
              "      <td>47.700001</td>\n",
              "      <td>48.029999</td>\n",
              "      <td>44.102348</td>\n",
              "      <td>8781274</td>\n",
              "    </tr>\n",
              "    <tr>\n",
              "      <th>2018-01-03</th>\n",
              "      <td>47.910000</td>\n",
              "      <td>48.000000</td>\n",
              "      <td>47.380001</td>\n",
              "      <td>47.590000</td>\n",
              "      <td>43.698345</td>\n",
              "      <td>12656360</td>\n",
              "    </tr>\n",
              "    <tr>\n",
              "      <th>2018-01-04</th>\n",
              "      <td>47.599998</td>\n",
              "      <td>48.209999</td>\n",
              "      <td>47.490002</td>\n",
              "      <td>47.610001</td>\n",
              "      <td>43.716702</td>\n",
              "      <td>16650871</td>\n",
              "    </tr>\n",
              "    <tr>\n",
              "      <th>2018-01-05</th>\n",
              "      <td>47.700001</td>\n",
              "      <td>48.169998</td>\n",
              "      <td>47.549999</td>\n",
              "      <td>48.090000</td>\n",
              "      <td>44.157448</td>\n",
              "      <td>9575059</td>\n",
              "    </tr>\n",
              "    <tr>\n",
              "      <th>2018-01-08</th>\n",
              "      <td>48.099998</td>\n",
              "      <td>48.500000</td>\n",
              "      <td>47.980000</td>\n",
              "      <td>48.320000</td>\n",
              "      <td>44.368645</td>\n",
              "      <td>13856218</td>\n",
              "    </tr>\n",
              "    <tr>\n",
              "      <th>...</th>\n",
              "      <td>...</td>\n",
              "      <td>...</td>\n",
              "      <td>...</td>\n",
              "      <td>...</td>\n",
              "      <td>...</td>\n",
              "      <td>...</td>\n",
              "    </tr>\n",
              "    <tr>\n",
              "      <th>2022-12-26</th>\n",
              "      <td>71.449997</td>\n",
              "      <td>71.529999</td>\n",
              "      <td>71.000000</td>\n",
              "      <td>71.099998</td>\n",
              "      <td>71.099998</td>\n",
              "      <td>444593</td>\n",
              "    </tr>\n",
              "    <tr>\n",
              "      <th>2022-12-27</th>\n",
              "      <td>71.370003</td>\n",
              "      <td>71.820000</td>\n",
              "      <td>70.910004</td>\n",
              "      <td>71.029999</td>\n",
              "      <td>71.029999</td>\n",
              "      <td>3352276</td>\n",
              "    </tr>\n",
              "    <tr>\n",
              "      <th>2022-12-28</th>\n",
              "      <td>70.910004</td>\n",
              "      <td>71.540001</td>\n",
              "      <td>69.919998</td>\n",
              "      <td>70.000000</td>\n",
              "      <td>70.000000</td>\n",
              "      <td>4871798</td>\n",
              "    </tr>\n",
              "    <tr>\n",
              "      <th>2022-12-29</th>\n",
              "      <td>70.839996</td>\n",
              "      <td>70.839996</td>\n",
              "      <td>69.120003</td>\n",
              "      <td>69.870003</td>\n",
              "      <td>69.870003</td>\n",
              "      <td>5026928</td>\n",
              "    </tr>\n",
              "    <tr>\n",
              "      <th>2022-12-30</th>\n",
              "      <td>69.699997</td>\n",
              "      <td>70.190002</td>\n",
              "      <td>68.220001</td>\n",
              "      <td>68.879997</td>\n",
              "      <td>68.879997</td>\n",
              "      <td>7114822</td>\n",
              "    </tr>\n",
              "  </tbody>\n",
              "</table>\n",
              "<p>1259 rows × 6 columns</p>\n",
              "</div>\n",
              "      <button class=\"colab-df-convert\" onclick=\"convertToInteractive('df-ae3150d0-fe5f-4e51-8d58-7c0abb254bc0')\"\n",
              "              title=\"Convert this dataframe to an interactive table.\"\n",
              "              style=\"display:none;\">\n",
              "        \n",
              "  <svg xmlns=\"http://www.w3.org/2000/svg\" height=\"24px\"viewBox=\"0 0 24 24\"\n",
              "       width=\"24px\">\n",
              "    <path d=\"M0 0h24v24H0V0z\" fill=\"none\"/>\n",
              "    <path d=\"M18.56 5.44l.94 2.06.94-2.06 2.06-.94-2.06-.94-.94-2.06-.94 2.06-2.06.94zm-11 1L8.5 8.5l.94-2.06 2.06-.94-2.06-.94L8.5 2.5l-.94 2.06-2.06.94zm10 10l.94 2.06.94-2.06 2.06-.94-2.06-.94-.94-2.06-.94 2.06-2.06.94z\"/><path d=\"M17.41 7.96l-1.37-1.37c-.4-.4-.92-.59-1.43-.59-.52 0-1.04.2-1.43.59L10.3 9.45l-7.72 7.72c-.78.78-.78 2.05 0 2.83L4 21.41c.39.39.9.59 1.41.59.51 0 1.02-.2 1.41-.59l7.78-7.78 2.81-2.81c.8-.78.8-2.07 0-2.86zM5.41 20L4 18.59l7.72-7.72 1.47 1.35L5.41 20z\"/>\n",
              "  </svg>\n",
              "      </button>\n",
              "      \n",
              "  <style>\n",
              "    .colab-df-container {\n",
              "      display:flex;\n",
              "      flex-wrap:wrap;\n",
              "      gap: 12px;\n",
              "    }\n",
              "\n",
              "    .colab-df-convert {\n",
              "      background-color: #E8F0FE;\n",
              "      border: none;\n",
              "      border-radius: 50%;\n",
              "      cursor: pointer;\n",
              "      display: none;\n",
              "      fill: #1967D2;\n",
              "      height: 32px;\n",
              "      padding: 0 0 0 0;\n",
              "      width: 32px;\n",
              "    }\n",
              "\n",
              "    .colab-df-convert:hover {\n",
              "      background-color: #E2EBFA;\n",
              "      box-shadow: 0px 1px 2px rgba(60, 64, 67, 0.3), 0px 1px 3px 1px rgba(60, 64, 67, 0.15);\n",
              "      fill: #174EA6;\n",
              "    }\n",
              "\n",
              "    [theme=dark] .colab-df-convert {\n",
              "      background-color: #3B4455;\n",
              "      fill: #D2E3FC;\n",
              "    }\n",
              "\n",
              "    [theme=dark] .colab-df-convert:hover {\n",
              "      background-color: #434B5C;\n",
              "      box-shadow: 0px 1px 3px 1px rgba(0, 0, 0, 0.15);\n",
              "      filter: drop-shadow(0px 1px 2px rgba(0, 0, 0, 0.3));\n",
              "      fill: #FFFFFF;\n",
              "    }\n",
              "  </style>\n",
              "\n",
              "      <script>\n",
              "        const buttonEl =\n",
              "          document.querySelector('#df-ae3150d0-fe5f-4e51-8d58-7c0abb254bc0 button.colab-df-convert');\n",
              "        buttonEl.style.display =\n",
              "          google.colab.kernel.accessAllowed ? 'block' : 'none';\n",
              "\n",
              "        async function convertToInteractive(key) {\n",
              "          const element = document.querySelector('#df-ae3150d0-fe5f-4e51-8d58-7c0abb254bc0');\n",
              "          const dataTable =\n",
              "            await google.colab.kernel.invokeFunction('convertToInteractive',\n",
              "                                                     [key], {});\n",
              "          if (!dataTable) return;\n",
              "\n",
              "          const docLinkHtml = 'Like what you see? Visit the ' +\n",
              "            '<a target=\"_blank\" href=https://colab.research.google.com/notebooks/data_table.ipynb>data table notebook</a>'\n",
              "            + ' to learn more about interactive tables.';\n",
              "          element.innerHTML = '';\n",
              "          dataTable['output_type'] = 'display_data';\n",
              "          await google.colab.output.renderOutput(dataTable, element);\n",
              "          const docLink = document.createElement('div');\n",
              "          docLink.innerHTML = docLinkHtml;\n",
              "          element.appendChild(docLink);\n",
              "        }\n",
              "      </script>\n",
              "    </div>\n",
              "  </div>\n",
              "  "
            ]
          },
          "metadata": {},
          "execution_count": 38
        }
      ]
    },
    {
      "cell_type": "code",
      "source": [
        "walmex['adj_close'].mean().round(2)"
      ],
      "metadata": {
        "id": "hV3QTgraFuEi",
        "outputId": "353833f3-9396-488c-de76-6e3c72958b26",
        "colab": {
          "base_uri": "https://localhost:8080/"
        }
      },
      "execution_count": 39,
      "outputs": [
        {
          "output_type": "execute_result",
          "data": {
            "text/plain": [
              "58.01"
            ]
          },
          "metadata": {},
          "execution_count": 39
        }
      ]
    },
    {
      "cell_type": "markdown",
      "source": [
        "Vamos a calcular los return (rendimiento) de las acciones de walmart, usando .pct_change() de pandas"
      ],
      "metadata": {
        "id": "WGyDLGLw1KN8"
      }
    },
    {
      "cell_type": "code",
      "source": [
        "walmex['return'] = walmex['adj_close'].pct_change()"
      ],
      "metadata": {
        "id": "M879tNVg1V_H"
      },
      "execution_count": 40,
      "outputs": []
    },
    {
      "cell_type": "code",
      "source": [
        "walmex.head()"
      ],
      "metadata": {
        "id": "8PC35el9FsTO",
        "outputId": "6c971362-7782-4890-8e72-888879a85400",
        "colab": {
          "base_uri": "https://localhost:8080/",
          "height": 238
        }
      },
      "execution_count": 41,
      "outputs": [
        {
          "output_type": "execute_result",
          "data": {
            "text/plain": [
              "                 Open       High        Low      Close  adj_close    Volume  \\\n",
              "Date                                                                          \n",
              "2018-01-02  48.150002  48.590000  47.700001  48.029999  44.102348   8781274   \n",
              "2018-01-03  47.910000  48.000000  47.380001  47.590000  43.698345  12656360   \n",
              "2018-01-04  47.599998  48.209999  47.490002  47.610001  43.716702  16650871   \n",
              "2018-01-05  47.700001  48.169998  47.549999  48.090000  44.157448   9575059   \n",
              "2018-01-08  48.099998  48.500000  47.980000  48.320000  44.368645  13856218   \n",
              "\n",
              "              return  \n",
              "Date                  \n",
              "2018-01-02       NaN  \n",
              "2018-01-03 -0.009161  \n",
              "2018-01-04  0.000420  \n",
              "2018-01-05  0.010082  \n",
              "2018-01-08  0.004783  "
            ],
            "text/html": [
              "\n",
              "  <div id=\"df-38b0542c-a3e1-4a9b-a762-1200bebd4e28\">\n",
              "    <div class=\"colab-df-container\">\n",
              "      <div>\n",
              "<style scoped>\n",
              "    .dataframe tbody tr th:only-of-type {\n",
              "        vertical-align: middle;\n",
              "    }\n",
              "\n",
              "    .dataframe tbody tr th {\n",
              "        vertical-align: top;\n",
              "    }\n",
              "\n",
              "    .dataframe thead th {\n",
              "        text-align: right;\n",
              "    }\n",
              "</style>\n",
              "<table border=\"1\" class=\"dataframe\">\n",
              "  <thead>\n",
              "    <tr style=\"text-align: right;\">\n",
              "      <th></th>\n",
              "      <th>Open</th>\n",
              "      <th>High</th>\n",
              "      <th>Low</th>\n",
              "      <th>Close</th>\n",
              "      <th>adj_close</th>\n",
              "      <th>Volume</th>\n",
              "      <th>return</th>\n",
              "    </tr>\n",
              "    <tr>\n",
              "      <th>Date</th>\n",
              "      <th></th>\n",
              "      <th></th>\n",
              "      <th></th>\n",
              "      <th></th>\n",
              "      <th></th>\n",
              "      <th></th>\n",
              "      <th></th>\n",
              "    </tr>\n",
              "  </thead>\n",
              "  <tbody>\n",
              "    <tr>\n",
              "      <th>2018-01-02</th>\n",
              "      <td>48.150002</td>\n",
              "      <td>48.590000</td>\n",
              "      <td>47.700001</td>\n",
              "      <td>48.029999</td>\n",
              "      <td>44.102348</td>\n",
              "      <td>8781274</td>\n",
              "      <td>NaN</td>\n",
              "    </tr>\n",
              "    <tr>\n",
              "      <th>2018-01-03</th>\n",
              "      <td>47.910000</td>\n",
              "      <td>48.000000</td>\n",
              "      <td>47.380001</td>\n",
              "      <td>47.590000</td>\n",
              "      <td>43.698345</td>\n",
              "      <td>12656360</td>\n",
              "      <td>-0.009161</td>\n",
              "    </tr>\n",
              "    <tr>\n",
              "      <th>2018-01-04</th>\n",
              "      <td>47.599998</td>\n",
              "      <td>48.209999</td>\n",
              "      <td>47.490002</td>\n",
              "      <td>47.610001</td>\n",
              "      <td>43.716702</td>\n",
              "      <td>16650871</td>\n",
              "      <td>0.000420</td>\n",
              "    </tr>\n",
              "    <tr>\n",
              "      <th>2018-01-05</th>\n",
              "      <td>47.700001</td>\n",
              "      <td>48.169998</td>\n",
              "      <td>47.549999</td>\n",
              "      <td>48.090000</td>\n",
              "      <td>44.157448</td>\n",
              "      <td>9575059</td>\n",
              "      <td>0.010082</td>\n",
              "    </tr>\n",
              "    <tr>\n",
              "      <th>2018-01-08</th>\n",
              "      <td>48.099998</td>\n",
              "      <td>48.500000</td>\n",
              "      <td>47.980000</td>\n",
              "      <td>48.320000</td>\n",
              "      <td>44.368645</td>\n",
              "      <td>13856218</td>\n",
              "      <td>0.004783</td>\n",
              "    </tr>\n",
              "  </tbody>\n",
              "</table>\n",
              "</div>\n",
              "      <button class=\"colab-df-convert\" onclick=\"convertToInteractive('df-38b0542c-a3e1-4a9b-a762-1200bebd4e28')\"\n",
              "              title=\"Convert this dataframe to an interactive table.\"\n",
              "              style=\"display:none;\">\n",
              "        \n",
              "  <svg xmlns=\"http://www.w3.org/2000/svg\" height=\"24px\"viewBox=\"0 0 24 24\"\n",
              "       width=\"24px\">\n",
              "    <path d=\"M0 0h24v24H0V0z\" fill=\"none\"/>\n",
              "    <path d=\"M18.56 5.44l.94 2.06.94-2.06 2.06-.94-2.06-.94-.94-2.06-.94 2.06-2.06.94zm-11 1L8.5 8.5l.94-2.06 2.06-.94-2.06-.94L8.5 2.5l-.94 2.06-2.06.94zm10 10l.94 2.06.94-2.06 2.06-.94-2.06-.94-.94-2.06-.94 2.06-2.06.94z\"/><path d=\"M17.41 7.96l-1.37-1.37c-.4-.4-.92-.59-1.43-.59-.52 0-1.04.2-1.43.59L10.3 9.45l-7.72 7.72c-.78.78-.78 2.05 0 2.83L4 21.41c.39.39.9.59 1.41.59.51 0 1.02-.2 1.41-.59l7.78-7.78 2.81-2.81c.8-.78.8-2.07 0-2.86zM5.41 20L4 18.59l7.72-7.72 1.47 1.35L5.41 20z\"/>\n",
              "  </svg>\n",
              "      </button>\n",
              "      \n",
              "  <style>\n",
              "    .colab-df-container {\n",
              "      display:flex;\n",
              "      flex-wrap:wrap;\n",
              "      gap: 12px;\n",
              "    }\n",
              "\n",
              "    .colab-df-convert {\n",
              "      background-color: #E8F0FE;\n",
              "      border: none;\n",
              "      border-radius: 50%;\n",
              "      cursor: pointer;\n",
              "      display: none;\n",
              "      fill: #1967D2;\n",
              "      height: 32px;\n",
              "      padding: 0 0 0 0;\n",
              "      width: 32px;\n",
              "    }\n",
              "\n",
              "    .colab-df-convert:hover {\n",
              "      background-color: #E2EBFA;\n",
              "      box-shadow: 0px 1px 2px rgba(60, 64, 67, 0.3), 0px 1px 3px 1px rgba(60, 64, 67, 0.15);\n",
              "      fill: #174EA6;\n",
              "    }\n",
              "\n",
              "    [theme=dark] .colab-df-convert {\n",
              "      background-color: #3B4455;\n",
              "      fill: #D2E3FC;\n",
              "    }\n",
              "\n",
              "    [theme=dark] .colab-df-convert:hover {\n",
              "      background-color: #434B5C;\n",
              "      box-shadow: 0px 1px 3px 1px rgba(0, 0, 0, 0.15);\n",
              "      filter: drop-shadow(0px 1px 2px rgba(0, 0, 0, 0.3));\n",
              "      fill: #FFFFFF;\n",
              "    }\n",
              "  </style>\n",
              "\n",
              "      <script>\n",
              "        const buttonEl =\n",
              "          document.querySelector('#df-38b0542c-a3e1-4a9b-a762-1200bebd4e28 button.colab-df-convert');\n",
              "        buttonEl.style.display =\n",
              "          google.colab.kernel.accessAllowed ? 'block' : 'none';\n",
              "\n",
              "        async function convertToInteractive(key) {\n",
              "          const element = document.querySelector('#df-38b0542c-a3e1-4a9b-a762-1200bebd4e28');\n",
              "          const dataTable =\n",
              "            await google.colab.kernel.invokeFunction('convertToInteractive',\n",
              "                                                     [key], {});\n",
              "          if (!dataTable) return;\n",
              "\n",
              "          const docLinkHtml = 'Like what you see? Visit the ' +\n",
              "            '<a target=\"_blank\" href=https://colab.research.google.com/notebooks/data_table.ipynb>data table notebook</a>'\n",
              "            + ' to learn more about interactive tables.';\n",
              "          element.innerHTML = '';\n",
              "          dataTable['output_type'] = 'display_data';\n",
              "          await google.colab.output.renderOutput(dataTable, element);\n",
              "          const docLink = document.createElement('div');\n",
              "          docLink.innerHTML = docLinkHtml;\n",
              "          element.appendChild(docLink);\n",
              "        }\n",
              "      </script>\n",
              "    </div>\n",
              "  </div>\n",
              "  "
            ]
          },
          "metadata": {},
          "execution_count": 41
        }
      ]
    },
    {
      "cell_type": "markdown",
      "source": [
        "Vamos a ver su histograma"
      ],
      "metadata": {
        "id": "rF9B6pPs4Dhy"
      }
    },
    {
      "cell_type": "code",
      "source": [
        "walmex['return'].plot.hist(bins=50);"
      ],
      "metadata": {
        "id": "Kw0TKCIy4GE-",
        "colab": {
          "base_uri": "https://localhost:8080/",
          "height": 265
        },
        "outputId": "69348cee-15ce-451f-896a-13824ed8d98e"
      },
      "execution_count": 42,
      "outputs": [
        {
          "output_type": "display_data",
          "data": {
            "text/plain": [
              "<Figure size 432x288 with 1 Axes>"
            ],
            "image/png": "[encoded data removed]"
          },
          "metadata": {
            "needs_background": "light"
          }
        }
      ]
    },
    {
      "cell_type": "markdown",
      "source": [
        "Supongamos que ahora, alguien nos pregunta qué cuál es el rendimiento promedio de las acciones de walt-mart México.\n",
        "\n",
        "Note que nosotros tenemos una muestra, los datos del año 2017.\n",
        "\n",
        "La población total, o los datos completos serían los datos de todos los años que existirá walmart de México, los años pasados y futuros."
      ],
      "metadata": {
        "id": "NGnx9IHD1iio"
      }
    },
    {
      "cell_type": "markdown",
      "source": [
        "Nos gustaria construir un intervalo de confianza del 95% para el precio de las acciones de walmart"
      ],
      "metadata": {
        "id": "5QB8d8fc4K23"
      }
    },
    {
      "cell_type": "markdown",
      "source": [
        "Recuerde que si el intervalo de confianza al 95% de confianza es\n",
        "\n",
        "IC(95%) = media +- 1.96 SE \n",
        "\n"
      ],
      "metadata": {
        "id": "qI_TThnd45yV"
      }
    },
    {
      "cell_type": "code",
      "source": [
        "walmex['return'].mean().round(6)"
      ],
      "metadata": {
        "id": "iYsHOiuk4UJ7",
        "colab": {
          "base_uri": "https://localhost:8080/"
        },
        "outputId": "b2ccaef8-ed13-4a7f-c5fc-0496818095c0"
      },
      "execution_count": 43,
      "outputs": [
        {
          "output_type": "execute_result",
          "data": {
            "text/plain": [
              "0.000494"
            ]
          },
          "metadata": {},
          "execution_count": 43
        }
      ]
    },
    {
      "cell_type": "code",
      "source": [
        "media = walmex['return'].mean()\n",
        "desv_est = walmex['return'].std(ddof=1)"
      ],
      "metadata": {
        "id": "sxtmLkLiGhMy"
      },
      "execution_count": 44,
      "outputs": []
    },
    {
      "cell_type": "markdown",
      "source": [
        "Ahora nos gustaria probar la hipótesis de que el rendimiento de las acciones de walmart es 0.0006 "
      ],
      "metadata": {
        "id": "Jyy1lCMM53vn"
      }
    },
    {
      "cell_type": "markdown",
      "source": [
        "$H_0: \\mu=0.0006$\n",
        "\n",
        "$H_a: \\mu \\neq 0.0006$\n"
      ],
      "metadata": {
        "id": "Zw02kpHW6t7A"
      }
    },
    {
      "cell_type": "code",
      "source": [
        "limite_superior = media + (1.96 * desv_est)"
      ],
      "metadata": {
        "id": "vq6nJ1J66lga"
      },
      "execution_count": 45,
      "outputs": []
    },
    {
      "cell_type": "code",
      "source": [
        "limite_inferior = media - (1.96 * desv_est)"
      ],
      "metadata": {
        "id": "tXm-p1PM7xqn"
      },
      "execution_count": 46,
      "outputs": []
    },
    {
      "cell_type": "code",
      "source": [
        "limite_inferior.round(3), limite_superior.round(3)"
      ],
      "metadata": {
        "id": "XG84pIFv7x-M",
        "colab": {
          "base_uri": "https://localhost:8080/"
        },
        "outputId": "0a874efd-50e6-4fc4-982d-cb20778cc722"
      },
      "execution_count": 47,
      "outputs": [
        {
          "output_type": "execute_result",
          "data": {
            "text/plain": [
              "(-0.032, 0.033)"
            ]
          },
          "metadata": {},
          "execution_count": 47
        }
      ]
    },
    {
      "cell_type": "code",
      "source": [
        "media_ho = 0.0006\n",
        "n = 1250\n",
        "raiz_n = n ** 0.5"
      ],
      "metadata": {
        "id": "d0p3vlLbHOUy"
      },
      "execution_count": 49,
      "outputs": []
    },
    {
      "cell_type": "code",
      "source": [
        "walmex.value_counts('return')"
      ],
      "metadata": {
        "id": "L64-vP2qHXsl",
        "outputId": "cccf189e-fe45-4515-bbe7-2395e9ae1220",
        "colab": {
          "base_uri": "https://localhost:8080/"
        }
      },
      "execution_count": 50,
      "outputs": [
        {
          "output_type": "execute_result",
          "data": {
            "text/plain": [
              "return\n",
              " 0.000000    8\n",
              " 0.008190    2\n",
              " 0.006898    1\n",
              " 0.006880    1\n",
              " 0.006877    1\n",
              "            ..\n",
              "-0.005670    1\n",
              "-0.005716    1\n",
              "-0.005750    1\n",
              "-0.005753    1\n",
              " 0.068265    1\n",
              "Length: 1250, dtype: int64"
            ]
          },
          "metadata": {},
          "execution_count": 50
        }
      ]
    },
    {
      "cell_type": "code",
      "source": [
        "estadistico_prueba = (media-media_ho) / (desv_est/raiz_n)\n"
      ],
      "metadata": {
        "id": "NSlBnEaTHkmc"
      },
      "execution_count": 51,
      "outputs": []
    },
    {
      "cell_type": "code",
      "source": [
        "estadistico_prueba"
      ],
      "metadata": {
        "id": "h9xhyy_nHu6E",
        "outputId": "90bc8b58-ecb6-4a90-e33c-ccf55793fe7e",
        "colab": {
          "base_uri": "https://localhost:8080/"
        }
      },
      "execution_count": 52,
      "outputs": [
        {
          "output_type": "execute_result",
          "data": {
            "text/plain": [
              "-0.22558714567599325"
            ]
          },
          "metadata": {},
          "execution_count": 52
        }
      ]
    },
    {
      "cell_type": "markdown",
      "source": [
        "NO SE RECHAZA H0, 0.0006 ES UN VALOR POSIBLE DEL VERDADERO RENDIMIENTO PROMEDIO DE LA ACCIÓN DE WALMART"
      ],
      "metadata": {
        "id": "dlwCILDdHyZ9"
      }
    },
    {
      "cell_type": "markdown",
      "source": [
        "p-value es el nivel de signifancia exacto de la prueba de hipótesis "
      ],
      "metadata": {
        "id": "EBxKL2447y2b"
      }
    },
    {
      "cell_type": "code",
      "source": [
        "from scipy.stats import norm"
      ],
      "metadata": {
        "id": "txojk5iT8Nov"
      },
      "execution_count": 53,
      "outputs": []
    },
    {
      "cell_type": "code",
      "source": [
        "prob_ztest = norm.cdf(estadistico_prueba).round(2)\n",
        "## como es una prueba de 2 colas el p-value es 2 veces\n",
        "## prob_ztest\n",
        "p_value = 2 * prob_ztest"
      ],
      "metadata": {
        "id": "moVffcxH78nq"
      },
      "execution_count": 55,
      "outputs": []
    },
    {
      "cell_type": "code",
      "source": [
        "prob_ztest"
      ],
      "metadata": {
        "id": "H4EU3dSPIDLk",
        "outputId": "acc44090-32dc-4454-81b6-e8830a0a606e",
        "colab": {
          "base_uri": "https://localhost:8080/"
        }
      },
      "execution_count": 56,
      "outputs": [
        {
          "output_type": "execute_result",
          "data": {
            "text/plain": [
              "0.41"
            ]
          },
          "metadata": {},
          "execution_count": 56
        }
      ]
    },
    {
      "cell_type": "markdown",
      "source": [
        "Regla de decisión: si el **p-valor**$ < \\alpha $ entonces rechazar $H_0$."
      ],
      "metadata": {
        "id": "2jhfj72H8FPR"
      }
    }
  ]
}